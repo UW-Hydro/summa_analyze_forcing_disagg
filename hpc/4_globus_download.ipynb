{
 "cells": [
  {
   "cell_type": "code",
   "execution_count": null,
   "id": "576cab3f-00fd-4d7d-be1c-6d05f4eca559",
   "metadata": {},
   "outputs": [],
   "source": [
    "import timeit\n",
    "# records the time at this instant\n",
    "# of the program\n",
    "runtime_start = timeit.default_timer()"
   ]
  },
  {
   "cell_type": "markdown",
   "id": "ddb7d20e",
   "metadata": {},
   "source": [
    "# 4 Download raw output from HPC to CyberGIS-Jupyter for Water using Globus\n",
    "\n",
    "Using this notebook, the user will be able to download the raw outputs on CyberGIS-Jupyter for Water from HPC. To enable this data trasnfer, CyberGIS-Compute integrates Globus service."
   ]
  },
  {
   "cell_type": "markdown",
   "id": "ad48143a",
   "metadata": {},
   "source": [
    "## 4_1 Prelimary step"
   ]
  },
  {
   "cell_type": "markdown",
   "id": "172ffe22",
   "metadata": {},
   "source": [
    "### 4_1_1 Enter SUMMA jobs\n",
    "\n",
    "<div class=\"alert alert-block alert-danger\">\n",
    "<b> Enter SUMMA job id:  </b> Enter SUMMA job id created by notebook 2. You can find it in the cell 36 in the section 2_7_3. </div>"
   ]
  },
  {
   "cell_type": "code",
   "execution_count": null,
   "id": "fc8789fd",
   "metadata": {},
   "outputs": [],
   "source": [
    "# the summa job to download\n",
    "SUMMA_JOB_ID = '1651834763ORCy'"
   ]
  },
  {
   "cell_type": "markdown",
   "id": "5df52b52",
   "metadata": {},
   "source": [
    "### 4_1_2 Import libraries"
   ]
  },
  {
   "cell_type": "code",
   "execution_count": null,
   "id": "accessible-developer",
   "metadata": {},
   "outputs": [],
   "source": [
    "import os\n",
    "import tempfile\n",
    "import time\n",
    "import json\n",
    "# import CyberGIS-Compute Service SDK\n",
    "from job_supervisor_client import *"
   ]
  },
  {
   "cell_type": "markdown",
   "id": "746b21c6",
   "metadata": {},
   "source": [
    "## 4_2 Set up paths to the download folder"
   ]
  },
  {
   "cell_type": "code",
   "execution_count": null,
   "id": "streaming-bandwidth",
   "metadata": {},
   "outputs": [],
   "source": [
    "workspace = \"./workspace\"\n",
    "workspace = os.path.abspath(workspace)\n",
    "model_folder = \"globus_\" + str(int(time.time()))\n",
    "model_folder = os.path.join(workspace, model_folder)\n",
    "! mkdir -p {model_folder}\n",
    "print(model_folder)"
   ]
  },
  {
   "cell_type": "markdown",
   "id": "e826edcf-04f6-4262-a6f8-b65bb522e666",
   "metadata": {},
   "source": [
    "Note, this notebook currently can only work with the 'expanse' hpc (and not 'keeling')."
   ]
  },
  {
   "cell_type": "code",
   "execution_count": null,
   "id": "cognitive-columbus",
   "metadata": {},
   "outputs": [],
   "source": [
    "job_folder_name=\"SUMMA_{}\".format(SUMMA_JOB_ID)\n",
    "jupyter_output_path=os.path.join(model_folder, job_folder_name)\n",
    "!mkdir -p {jupyter_output_path}\n",
    "jupyter_output_rel_path = jupyter_output_path.replace(\"/home/jovyan/work/\", \"\")\n",
    "data = dict(jupyter_user=os.environ[\"JUPYTERHUB_USER\"], \n",
    "            hpc=\"expanse\", \n",
    "            job_folder_name=job_folder_name, \n",
    "            jupyter_output_path=jupyter_output_rel_path)\n",
    "data_path = os.path.join(model_folder, \"globus.json\")\n",
    "with open(data_path, 'w') as outfile:\n",
    "    json.dump(data, outfile)\n",
    "    "
   ]
  },
  {
   "cell_type": "code",
   "execution_count": null,
   "id": "applicable-tucson",
   "metadata": {},
   "outputs": [],
   "source": [
    "! cat {data_path}"
   ]
  },
  {
   "cell_type": "markdown",
   "id": "4f33d9e9",
   "metadata": {},
   "source": [
    "## 4_3 Communicate with CyberGIS-Compute Service SDK"
   ]
  },
  {
   "cell_type": "markdown",
   "id": "43a3659f",
   "metadata": {},
   "source": [
    "### 4_3_1 Create session and upload model folder"
   ]
  },
  {
   "cell_type": "code",
   "execution_count": null,
   "id": "alive-basis",
   "metadata": {},
   "outputs": [],
   "source": [
    "#session = Session(\"globus\", url=\"127.0.0.1\", port=3000, isJupyter=True, protocol='HTTP')\n",
    "session = Session(\"globus\", isJupyter=True)"
   ]
  },
  {
   "cell_type": "code",
   "execution_count": null,
   "id": "velvet-marking",
   "metadata": {},
   "outputs": [],
   "source": [
    "# upload model folder containing in.txt\n",
    "job = session.job()\n",
    "job.upload(model_folder)"
   ]
  },
  {
   "cell_type": "markdown",
   "id": "9bbc8fb6",
   "metadata": {},
   "source": [
    "### 4_3_2 Submit and monitor the job"
   ]
  },
  {
   "cell_type": "code",
   "execution_count": null,
   "id": "superior-reflection",
   "metadata": {},
   "outputs": [],
   "source": [
    "job.submit()"
   ]
  },
  {
   "cell_type": "code",
   "execution_count": null,
   "id": "future-brazilian",
   "metadata": {},
   "outputs": [],
   "source": [
    "# monitor job execution\n",
    "job.events(liveOutput=True)"
   ]
  },
  {
   "cell_type": "markdown",
   "id": "9074b56a",
   "metadata": {},
   "source": [
    "### 4_3_3 Locate the downloaded raw outputs on CyberGIS-Jupyter for Water\n",
    "\n",
    "In this step, the users can find the location of the raw outputs on CyberGIS-Jupyter for Water that were downloaded from HPC using Globus. Then, they can navigate to this folder and do furthur calcualtions on the raw outputs as they wish or donwload necessary files to their local machines. "
   ]
  },
  {
   "cell_type": "code",
   "execution_count": null,
   "id": "impressive-madrid",
   "metadata": {},
   "outputs": [],
   "source": [
    "!echo {jupyter_output_path}"
   ]
  },
  {
   "cell_type": "markdown",
   "id": "90760156",
   "metadata": {},
   "source": [
    "Show the size and dicrectoy of downloaded raw outputs on CyberGIS-Jupyter for Water "
   ]
  },
  {
   "cell_type": "code",
   "execution_count": null,
   "id": "sunset-greene",
   "metadata": {},
   "outputs": [],
   "source": [
    "!du {jupyter_output_path} -h"
   ]
  },
  {
   "cell_type": "code",
   "execution_count": null,
   "id": "confirmed-england",
   "metadata": {},
   "outputs": [],
   "source": [
    "# Print the time spent running the entire notebook.\n",
    "# records the time at this instant \n",
    "# of the program\n",
    "runtime_end = timeit.default_timer()\n",
    "\n",
    "# printing the execution time by subtracting\n",
    "# the time before the function from\n",
    "# the time after the function\n",
    "print(int(runtime_end-runtime_start), ' seconds')"
   ]
  },
  {
   "cell_type": "code",
   "execution_count": null,
   "id": "108e8ed0-8950-45ab-9937-21df97b11f55",
   "metadata": {},
   "outputs": [],
   "source": []
  }
 ],
 "metadata": {
  "kernelspec": {
   "display_name": "SUMMA-2021-09",
   "language": "python",
   "name": "pysumma-2021-09"
  },
  "language_info": {
   "codemirror_mode": {
    "name": "ipython",
    "version": 3
   },
   "file_extension": ".py",
   "mimetype": "text/x-python",
   "name": "python",
   "nbconvert_exporter": "python",
   "pygments_lexer": "ipython3",
   "version": "3.7.9"
  }
 },
 "nbformat": 4,
 "nbformat_minor": 5
}
