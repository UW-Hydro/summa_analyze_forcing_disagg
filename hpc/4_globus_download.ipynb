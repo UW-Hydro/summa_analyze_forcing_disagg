{
 "cells": [
  {
   "cell_type": "code",
   "execution_count": 11,
   "id": "neural-sleeve",
   "metadata": {},
   "outputs": [],
   "source": [
    "# the summa job to download\n",
    "SUMMA_JOB_ID = '1631202108zkAg'"
   ]
  },
  {
   "cell_type": "code",
   "execution_count": 12,
   "id": "accessible-developer",
   "metadata": {},
   "outputs": [],
   "source": [
    "import os\n",
    "import tempfile\n",
    "import time\n",
    "import json"
   ]
  },
  {
   "cell_type": "code",
   "execution_count": 13,
   "id": "streaming-bandwidth",
   "metadata": {},
   "outputs": [
    {
     "name": "stdout",
     "output_type": "stream",
     "text": [
      "/home/jovyan/work/summa_analyze_forcing_disagg/hpc/workspace/globus_1631204867\n"
     ]
    }
   ],
   "source": [
    "workspace = \"./workspace\"\n",
    "workspace = os.path.abspath(workspace)\n",
    "model_folder = \"globus_\" + str(int(time.time()))\n",
    "model_folder = os.path.join(workspace, model_folder)\n",
    "! mkdir -p {model_folder}\n",
    "print(model_folder)\n"
   ]
  },
  {
   "cell_type": "code",
   "execution_count": 14,
   "id": "cognitive-columbus",
   "metadata": {},
   "outputs": [],
   "source": [
    "job_folder_name=\"SUMMA_{}\".format(SUMMA_JOB_ID)\n",
    "jupyter_output_path=os.path.join(model_folder, job_folder_name)\n",
    "!mkdir -p {jupyter_output_path}\n",
    "jupyter_output_rel_path = jupyter_output_path.replace(\"/home/jovyan/work/\", \"\")\n",
    "data = dict(jupyter_user=os.environ[\"JUPYTERHUB_USER\"], \n",
    "            hpc=\"expanse\", \n",
    "            job_folder_name=job_folder_name, \n",
    "            jupyter_output_path=jupyter_output_rel_path)\n",
    "data_path = os.path.join(model_folder, \"globus.json\")\n",
    "with open(data_path, 'w') as outfile:\n",
    "    json.dump(data, outfile)\n",
    "    "
   ]
  },
  {
   "cell_type": "code",
   "execution_count": 15,
   "id": "applicable-tucson",
   "metadata": {},
   "outputs": [
    {
     "name": "stdout",
     "output_type": "stream",
     "text": [
      "{\"jupyter_user\": \"drew\", \"hpc\": \"expanse\", \"job_folder_name\": \"SUMMA_1631202108zkAg\", \"jupyter_output_path\": \"summa_analyze_forcing_disagg/hpc/workspace/globus_1631204867/SUMMA_1631202108zkAg\"}"
     ]
    }
   ],
   "source": [
    "! cat {data_path}"
   ]
  },
  {
   "cell_type": "code",
   "execution_count": 16,
   "id": "distinct-beach",
   "metadata": {},
   "outputs": [],
   "source": [
    "# import CyberGIS Computing Service SDK\n",
    "from job_supervisor_client import *"
   ]
  },
  {
   "cell_type": "code",
   "execution_count": 17,
   "id": "alive-basis",
   "metadata": {},
   "outputs": [],
   "source": [
    "#session = Session(\"globus\", url=\"127.0.0.1\", port=3000, isJupyter=True, protocol='HTTP')\n",
    "session = Session(\"globus\", isJupyter=True)"
   ]
  },
  {
   "cell_type": "code",
   "execution_count": 18,
   "id": "velvet-marking",
   "metadata": {},
   "outputs": [
    {
     "data": {
      "text/plain": [
       "{'file': '16312048709Geo'}"
      ]
     },
     "execution_count": 18,
     "metadata": {},
     "output_type": "execute_result"
    }
   ],
   "source": [
    "# upload model folder containing in.txt\n",
    "job = session.job()\n",
    "job.upload(model_folder)"
   ]
  },
  {
   "cell_type": "code",
   "execution_count": 19,
   "id": "superior-reflection",
   "metadata": {},
   "outputs": [
    {
     "name": "stdout",
     "output_type": "stream",
     "text": [
      "✅ job registered with ID: 1631204870NMmA\n"
     ]
    },
    {
     "data": {
      "text/plain": [
       "<job_supervisor_client.Job.Job at 0x7fe6916edc90>"
      ]
     },
     "execution_count": 19,
     "metadata": {},
     "output_type": "execute_result"
    }
   ],
   "source": [
    "job.submit()"
   ]
  },
  {
   "cell_type": "code",
   "execution_count": 20,
   "id": "future-brazilian",
   "metadata": {},
   "outputs": [
    {
     "name": "stdout",
     "output_type": "stream",
     "text": [
      "📮Job ID: 1631204870NMmA\n",
      "📍Destination: globus\n",
      "\n"
     ]
    },
    {
     "data": {
      "text/html": [
       "<table>\n",
       "<thead>\n",
       "<tr><th>types          </th><th>message                                                                                                                     </th><th>time                    </th></tr>\n",
       "</thead>\n",
       "<tbody>\n",
       "<tr><td>JOB_QUEUED     </td><td>job [1631204870NMmA] is queued, waiting for registration                                                                    </td><td>2021-09-09T16:27:50.117Z</td></tr>\n",
       "<tr><td>JOB_REGISTERED </td><td>job [1631204870NMmA] is registered with the supervisor, waiting for initialization                                          </td><td>2021-09-09T16:27:57.617Z</td></tr>\n",
       "<tr><td>JOB_INITIALIZED</td><td>1631204870NMmA (Globus task id eb6a53ea-118a-11ec-90b6-41052087bc27; label 1631204870NMmA_expanse_drew_SUMMA_1631202108zkAg)</td><td>2021-09-09T16:28:09.710Z</td></tr>\n",
       "<tr><td>JOB_STATUS     </td><td>ACTIVE (1631204870NMmA ; eb6a53ea-118a-11ec-90b6-41052087bc27 ; 1631204870NMmA_expanse_drew_SUMMA_1631202108zkAg)           </td><td>2021-09-09T16:28:18.836Z</td></tr>\n",
       "<tr><td>JOB_STATUS     </td><td>ACTIVE (1631204870NMmA ; eb6a53ea-118a-11ec-90b6-41052087bc27 ; 1631204870NMmA_expanse_drew_SUMMA_1631202108zkAg)           </td><td>2021-09-09T16:28:28.702Z</td></tr>\n",
       "<tr><td>JOB_STATUS     </td><td>ACTIVE (1631204870NMmA ; eb6a53ea-118a-11ec-90b6-41052087bc27 ; 1631204870NMmA_expanse_drew_SUMMA_1631202108zkAg)           </td><td>2021-09-09T16:28:38.628Z</td></tr>\n",
       "<tr><td>JOB_STATUS     </td><td>ACTIVE (1631204870NMmA ; eb6a53ea-118a-11ec-90b6-41052087bc27 ; 1631204870NMmA_expanse_drew_SUMMA_1631202108zkAg)           </td><td>2021-09-09T16:28:48.613Z</td></tr>\n",
       "<tr><td>JOB_STATUS     </td><td>ACTIVE (1631204870NMmA ; eb6a53ea-118a-11ec-90b6-41052087bc27 ; 1631204870NMmA_expanse_drew_SUMMA_1631202108zkAg)           </td><td>2021-09-09T16:28:58.538Z</td></tr>\n",
       "<tr><td>JOB_STATUS     </td><td>ACTIVE (1631204870NMmA ; eb6a53ea-118a-11ec-90b6-41052087bc27 ; 1631204870NMmA_expanse_drew_SUMMA_1631202108zkAg)           </td><td>2021-09-09T16:29:09.255Z</td></tr>\n",
       "<tr><td>JOB_STATUS     </td><td>ACTIVE (1631204870NMmA ; eb6a53ea-118a-11ec-90b6-41052087bc27 ; 1631204870NMmA_expanse_drew_SUMMA_1631202108zkAg)           </td><td>2021-09-09T16:29:18.684Z</td></tr>\n",
       "<tr><td>JOB_STATUS     </td><td>ACTIVE (1631204870NMmA ; eb6a53ea-118a-11ec-90b6-41052087bc27 ; 1631204870NMmA_expanse_drew_SUMMA_1631202108zkAg)           </td><td>2021-09-09T16:29:28.647Z</td></tr>\n",
       "<tr><td>JOB_STATUS     </td><td>ACTIVE (1631204870NMmA ; eb6a53ea-118a-11ec-90b6-41052087bc27 ; 1631204870NMmA_expanse_drew_SUMMA_1631202108zkAg)           </td><td>2021-09-09T16:29:39.148Z</td></tr>\n",
       "<tr><td>JOB_STATUS     </td><td>ACTIVE (1631204870NMmA ; eb6a53ea-118a-11ec-90b6-41052087bc27 ; 1631204870NMmA_expanse_drew_SUMMA_1631202108zkAg)           </td><td>2021-09-09T16:29:48.600Z</td></tr>\n",
       "<tr><td>JOB_STATUS     </td><td>ACTIVE (1631204870NMmA ; eb6a53ea-118a-11ec-90b6-41052087bc27 ; 1631204870NMmA_expanse_drew_SUMMA_1631202108zkAg)           </td><td>2021-09-09T16:29:58.681Z</td></tr>\n",
       "<tr><td>JOB_STATUS     </td><td>ACTIVE (1631204870NMmA ; eb6a53ea-118a-11ec-90b6-41052087bc27 ; 1631204870NMmA_expanse_drew_SUMMA_1631202108zkAg)           </td><td>2021-09-09T16:30:09.140Z</td></tr>\n",
       "<tr><td>JOB_STATUS     </td><td>ACTIVE (1631204870NMmA ; eb6a53ea-118a-11ec-90b6-41052087bc27 ; 1631204870NMmA_expanse_drew_SUMMA_1631202108zkAg)           </td><td>2021-09-09T16:30:18.769Z</td></tr>\n",
       "<tr><td>JOB_STATUS     </td><td>ACTIVE (1631204870NMmA ; eb6a53ea-118a-11ec-90b6-41052087bc27 ; 1631204870NMmA_expanse_drew_SUMMA_1631202108zkAg)           </td><td>2021-09-09T16:30:28.621Z</td></tr>\n",
       "<tr><td>JOB_STATUS     </td><td>ACTIVE (1631204870NMmA ; eb6a53ea-118a-11ec-90b6-41052087bc27 ; 1631204870NMmA_expanse_drew_SUMMA_1631202108zkAg)           </td><td>2021-09-09T16:30:38.713Z</td></tr>\n",
       "<tr><td>JOB_STATUS     </td><td>ACTIVE (1631204870NMmA ; eb6a53ea-118a-11ec-90b6-41052087bc27 ; 1631204870NMmA_expanse_drew_SUMMA_1631202108zkAg)           </td><td>2021-09-09T16:30:48.793Z</td></tr>\n",
       "<tr><td>JOB_STATUS     </td><td>ACTIVE (1631204870NMmA ; eb6a53ea-118a-11ec-90b6-41052087bc27 ; 1631204870NMmA_expanse_drew_SUMMA_1631202108zkAg)           </td><td>2021-09-09T16:30:58.702Z</td></tr>\n",
       "<tr><td>JOB_STATUS     </td><td>ACTIVE (1631204870NMmA ; eb6a53ea-118a-11ec-90b6-41052087bc27 ; 1631204870NMmA_expanse_drew_SUMMA_1631202108zkAg)           </td><td>2021-09-09T16:31:09.227Z</td></tr>\n",
       "<tr><td>JOB_STATUS     </td><td>ACTIVE (1631204870NMmA ; eb6a53ea-118a-11ec-90b6-41052087bc27 ; 1631204870NMmA_expanse_drew_SUMMA_1631202108zkAg)           </td><td>2021-09-09T16:31:18.678Z</td></tr>\n",
       "<tr><td>JOB_STATUS     </td><td>ACTIVE (1631204870NMmA ; eb6a53ea-118a-11ec-90b6-41052087bc27 ; 1631204870NMmA_expanse_drew_SUMMA_1631202108zkAg)           </td><td>2021-09-09T16:31:28.770Z</td></tr>\n",
       "<tr><td>JOB_STATUS     </td><td>ACTIVE (1631204870NMmA ; eb6a53ea-118a-11ec-90b6-41052087bc27 ; 1631204870NMmA_expanse_drew_SUMMA_1631202108zkAg)           </td><td>2021-09-09T16:31:38.661Z</td></tr>\n",
       "<tr><td>JOB_STATUS     </td><td>ACTIVE (1631204870NMmA ; eb6a53ea-118a-11ec-90b6-41052087bc27 ; 1631204870NMmA_expanse_drew_SUMMA_1631202108zkAg)           </td><td>2021-09-09T16:31:48.680Z</td></tr>\n",
       "<tr><td>JOB_STATUS     </td><td>ACTIVE (1631204870NMmA ; eb6a53ea-118a-11ec-90b6-41052087bc27 ; 1631204870NMmA_expanse_drew_SUMMA_1631202108zkAg)           </td><td>2021-09-09T16:31:58.794Z</td></tr>\n",
       "<tr><td>JOB_ENDED      </td><td>SUCCEEDED (1631204870NMmA ; eb6a53ea-118a-11ec-90b6-41052087bc27 ; 1631204870NMmA_expanse_drew_SUMMA_1631202108zkAg)        </td><td>2021-09-09T16:32:09.279Z</td></tr>\n",
       "</tbody>\n",
       "</table>"
      ],
      "text/plain": [
       "<IPython.core.display.HTML object>"
      ]
     },
     "metadata": {},
     "output_type": "display_data"
    }
   ],
   "source": [
    "# monitor job execution\n",
    "job.events(liveOutput=True)"
   ]
  },
  {
   "cell_type": "code",
   "execution_count": 21,
   "id": "impressive-madrid",
   "metadata": {},
   "outputs": [
    {
     "name": "stdout",
     "output_type": "stream",
     "text": [
      "/home/jovyan/work/summa_analyze_forcing_disagg/hpc/workspace/globus_1631204867/SUMMA_1631202108zkAg\r\n"
     ]
    }
   ],
   "source": [
    "!echo {jupyter_output_path}"
   ]
  },
  {
   "cell_type": "code",
   "execution_count": 22,
   "id": "sunset-greene",
   "metadata": {},
   "outputs": [
    {
     "name": "stdout",
     "output_type": "stream",
     "text": [
      "23M\t/home/jovyan/work/summa_analyze_forcing_disagg/hpc/workspace/globus_1631204867/SUMMA_1631202108zkAg/1631202105uPn6/data/truth\n",
      "4.0K\t/home/jovyan/work/summa_analyze_forcing_disagg/hpc/workspace/globus_1631204867/SUMMA_1631202108zkAg/1631202105uPn6/data/1hr\n",
      "158M\t/home/jovyan/work/summa_analyze_forcing_disagg/hpc/workspace/globus_1631204867/SUMMA_1631202108zkAg/1631202105uPn6/data/constant\n",
      "181M\t/home/jovyan/work/summa_analyze_forcing_disagg/hpc/workspace/globus_1631204867/SUMMA_1631202108zkAg/1631202105uPn6/data\n",
      "1.5G\t/home/jovyan/work/summa_analyze_forcing_disagg/hpc/workspace/globus_1631204867/SUMMA_1631202108zkAg/1631202105uPn6/output2/truth\n",
      "11G\t/home/jovyan/work/summa_analyze_forcing_disagg/hpc/workspace/globus_1631204867/SUMMA_1631202108zkAg/1631202105uPn6/output2/constant\n",
      "12G\t/home/jovyan/work/summa_analyze_forcing_disagg/hpc/workspace/globus_1631204867/SUMMA_1631202108zkAg/1631202105uPn6/output2\n",
      "644K\t/home/jovyan/work/summa_analyze_forcing_disagg/hpc/workspace/globus_1631204867/SUMMA_1631202108zkAg/1631202105uPn6/settings\n",
      "656K\t/home/jovyan/work/summa_analyze_forcing_disagg/hpc/workspace/globus_1631204867/SUMMA_1631202108zkAg/1631202105uPn6/output/regress_data\n",
      "3.1M\t/home/jovyan/work/summa_analyze_forcing_disagg/hpc/workspace/globus_1631204867/SUMMA_1631202108zkAg/1631202105uPn6/output\n",
      "13G\t/home/jovyan/work/summa_analyze_forcing_disagg/hpc/workspace/globus_1631204867/SUMMA_1631202108zkAg/1631202105uPn6\n",
      "13G\t/home/jovyan/work/summa_analyze_forcing_disagg/hpc/workspace/globus_1631204867/SUMMA_1631202108zkAg\n"
     ]
    }
   ],
   "source": [
    "!du {jupyter_output_path} -h"
   ]
  },
  {
   "cell_type": "code",
   "execution_count": null,
   "id": "confirmed-england",
   "metadata": {},
   "outputs": [],
   "source": []
  },
  {
   "cell_type": "code",
   "execution_count": null,
   "id": "negative-lesbian",
   "metadata": {},
   "outputs": [],
   "source": []
  }
 ],
 "metadata": {
  "kernelspec": {
   "display_name": "SUMMA-2021-09",
   "language": "python",
   "name": "pysumma-2021-09"
  },
  "language_info": {
   "codemirror_mode": {
    "name": "ipython",
    "version": 3
   },
   "file_extension": ".py",
   "mimetype": "text/x-python",
   "name": "python",
   "nbconvert_exporter": "python",
   "pygments_lexer": "ipython3",
   "version": "3.7.9"
  }
 },
 "nbformat": 4,
 "nbformat_minor": 5
}
