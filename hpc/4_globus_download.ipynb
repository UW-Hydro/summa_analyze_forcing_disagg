{
 "cells": [
  {
   "cell_type": "code",
   "execution_count": null,
   "id": "neural-sleeve",
   "metadata": {},
   "outputs": [],
   "source": [
    "# the summa job to download\n",
    "SUMMA_JOB_ID = '1627094801VLoc'"
   ]
  },
  {
   "cell_type": "code",
   "execution_count": null,
   "id": "accessible-developer",
   "metadata": {},
   "outputs": [],
   "source": [
    "import os\n",
    "import tempfile\n",
    "import time\n",
    "import json"
   ]
  },
  {
   "cell_type": "code",
   "execution_count": null,
   "id": "streaming-bandwidth",
   "metadata": {},
   "outputs": [],
   "source": [
    "workspace = \"./workspace\"\n",
    "workspace = os.path.abspath(workspace)\n",
    "model_folder = \"globus_\" + str(int(time.time()))\n",
    "model_folder = os.path.join(workspace, model_folder)\n",
    "! mkdir -p {model_folder}\n",
    "print(model_folder)\n"
   ]
  },
  {
   "cell_type": "code",
   "execution_count": null,
   "id": "cognitive-columbus",
   "metadata": {},
   "outputs": [],
   "source": [
    "job_folder_name=\"SUMMA_{}\".format(SUMMA_JOB_ID)\n",
    "jupyter_output_path=os.path.join(model_folder, job_folder_name)\n",
    "!mkdir -p {jupyter_output_path}\n",
    "jupyter_output_rel_path = jupyter_output_path.replace(\"/home/jovyan/work/\", \"\")\n",
    "data = dict(jupyter_user=os.environ[\"JUPYTERHUB_USER\"], \n",
    "            hpc=\"expanse\", \n",
    "            job_folder_name=job_folder_name, \n",
    "            jupyter_output_path=jupyter_output_rel_path)\n",
    "data_path = os.path.join(model_folder, \"globus.json\")\n",
    "with open(data_path, 'w') as outfile:\n",
    "    json.dump(data, outfile)\n",
    "    "
   ]
  },
  {
   "cell_type": "code",
   "execution_count": null,
   "id": "applicable-tucson",
   "metadata": {},
   "outputs": [],
   "source": [
    "! cat {data_path}"
   ]
  },
  {
   "cell_type": "code",
   "execution_count": null,
   "id": "distinct-beach",
   "metadata": {},
   "outputs": [],
   "source": [
    "# import CyberGIS Computing Service SDK\n",
    "from job_supervisor_client import *"
   ]
  },
  {
   "cell_type": "code",
   "execution_count": null,
   "id": "alive-basis",
   "metadata": {},
   "outputs": [],
   "source": [
    "#session = Session(\"globus\", url=\"127.0.0.1\", port=3000, isJupyter=True, protocol='HTTP')\n",
    "session = Session(\"globus\", isJupyter=True)"
   ]
  },
  {
   "cell_type": "code",
   "execution_count": null,
   "id": "velvet-marking",
   "metadata": {},
   "outputs": [],
   "source": [
    "# upload model folder containing in.txt\n",
    "job = session.job()\n",
    "job.upload(model_folder)"
   ]
  },
  {
   "cell_type": "code",
   "execution_count": null,
   "id": "superior-reflection",
   "metadata": {},
   "outputs": [],
   "source": [
    "job.submit()"
   ]
  },
  {
   "cell_type": "code",
   "execution_count": null,
   "id": "future-brazilian",
   "metadata": {},
   "outputs": [],
   "source": [
    "# monitor job execution\n",
    "job.events(liveOutput=True)"
   ]
  },
  {
   "cell_type": "code",
   "execution_count": null,
   "id": "impressive-madrid",
   "metadata": {},
   "outputs": [],
   "source": [
    "!echo {jupyter_output_path}"
   ]
  },
  {
   "cell_type": "code",
   "execution_count": null,
   "id": "sunset-greene",
   "metadata": {},
   "outputs": [],
   "source": [
    "!du {jupyter_output_path} -h"
   ]
  },
  {
   "cell_type": "code",
   "execution_count": null,
   "id": "confirmed-england",
   "metadata": {},
   "outputs": [],
   "source": []
  },
  {
   "cell_type": "code",
   "execution_count": null,
   "id": "negative-lesbian",
   "metadata": {},
   "outputs": [],
   "source": []
  }
 ],
 "metadata": {
  "kernelspec": {
   "display_name": "SUMMA",
   "language": "python",
   "name": "pysumma"
  },
  "language_info": {
   "codemirror_mode": {
    "name": "ipython",
    "version": 3
   },
   "file_extension": ".py",
   "mimetype": "text/x-python",
   "name": "python",
   "nbconvert_exporter": "python",
   "pygments_lexer": "ipython3",
   "version": "3.7.9"
  }
 },
 "nbformat": 4,
 "nbformat_minor": 5
}
