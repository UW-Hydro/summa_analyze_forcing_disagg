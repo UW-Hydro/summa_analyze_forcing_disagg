{
 "cells": [
  {
   "cell_type": "code",
   "execution_count": null,
   "metadata": {},
   "outputs": [],
   "source": [
    "import timeit\n",
    "# records the time at this instant\n",
    "# of the program\n",
    "runtime_start = timeit.default_timer()"
   ]
  },
  {
   "cell_type": "markdown",
   "metadata": {},
   "source": [
    "# 3 Effect of Forcings on CAMELs Simulations\n",
    "\n",
    "Now, we can look at the output and see which forcing variables have the most error for each basin. \n",
    "This code will make one figure per basin, such that you can look at the forcing error effects in each basin separately. \n",
    "In the notebook 2 (`2_camels_pysumma.ipynb` or `2_camels_pysumma_hpc.ipynb`) you decided if you wanted to run, in order of increasing complexity: \n",
    " - 1)   `default_prob = 1`: the \"default\" configuration with the \"default\" parameters. By \"default\" we mean whatever you chose in the summa setup files. \n",
    " - 2a) `lhs_prob = 1`: the default configuration with exploration of the parameter space.\n",
    " - 2b) `config_prob = 1`: the default parameters with different configurations.\n",
    " - 3)   `lhs_config_prob = 1`: the exploration of the parameter space with different configurations."
   ]
  },
  {
   "cell_type": "markdown",
   "metadata": {},
   "source": [
    "## 3_1 Preliminary steps"
   ]
  },
  {
   "cell_type": "markdown",
   "metadata": {},
   "source": [
    "### 3_1_1 Import libraries\n",
    "Load the imports."
   ]
  },
  {
   "cell_type": "code",
   "execution_count": null,
   "metadata": {},
   "outputs": [],
   "source": [
    "import pandas as pd\n",
    "import numpy as np\n",
    "import matplotlib.pyplot as plt\n",
    "%matplotlib inline\n",
    "import xarray as xr\n",
    "from mpl_toolkits.basemap import Basemap as Basemap\n",
    "import matplotlib.gridspec as gridspec\n",
    "import seaborn as sns\n",
    "import os"
   ]
  },
  {
   "cell_type": "markdown",
   "metadata": {},
   "source": [
    "<br>\n",
    "\n",
    "## 3_2 Set up paths to SUMMA configuration files for CAMELS basins\n",
    "### 3_2_1 Set up paths to SUMMA configuration files\n",
    "Set up the paths."
   ]
  },
  {
   "cell_type": "code",
   "execution_count": null,
   "metadata": {},
   "outputs": [],
   "source": [
    "top_folder = os.path.join(os.getcwd(), 'summa_camels')\n",
    "settings_folder = os.path.join(top_folder, 'settings')\n",
    "regress_folder = os.path.join(os.getcwd(), 'regress_data')"
   ]
  },
  {
   "cell_type": "markdown",
   "metadata": {},
   "source": [
    "## 3_3 Make problem complexity choices\n",
    "In this notebook, you can only choose one choice as 1. We suggest you choose the most complex problem you ran. \n",
    "DO NOT choose one of these to be one here if you did not choose it or a more complex option to equal 1 before.\n",
    "\n",
    "Lastly, you need to know what you had as the number of LHS runs in the previous notebook if you ran that (pre-populated is `numl = 10` in cell 21 of `2_camels_pysumma.ipynb` or in cell 11 of `2_camels_pysumma_hpc.ipynb`) and the default configuration (see `print(s.decisions)` output of cell 34 in `2_camels_pysumma.ipynb` or cell 22 in `2_camels_pysumma_hpc.ipynb`)."
   ]
  },
  {
   "cell_type": "code",
   "execution_count": null,
   "metadata": {},
   "outputs": [],
   "source": [
    "# This will only let one variable equal 1\n",
    "default_prob = 0\n",
    "lhs_prob = 0\n",
    "config_prob = 0\n",
    "lhs_config_prob = 1\n",
    "if lhs_config_prob==1:\n",
    "    default_prob = 0\n",
    "    lhs_prob = 0\n",
    "    config_prob = 0\n",
    "elif config_prob==1:\n",
    "    default_prob = 0\n",
    "    lhs_prob = 0\n",
    "elif lhs_prob==1:\n",
    "    default_prob = 0"
   ]
  },
  {
   "cell_type": "code",
   "execution_count": null,
   "metadata": {},
   "outputs": [],
   "source": [
    "numl = 10 #number of LHS parameter sets, this should be the same as in the previous notebook\n",
    "default_con_name = '++BallBerry++lightSnow++logBelowCanopy++' #default configuration, see previous notebook"
   ]
  },
  {
   "cell_type": "markdown",
   "metadata": {},
   "source": [
    "<br>\n",
    "\n",
    "## 3_4 Summary statistics of KGE error on output\n",
    "In the previous notebook, we calculated KGEs on the data. KGE means perfect agreement if it is 1, and <0 means the mean is a better guess. Here, we read in the saved error file, and make summaries of the results by problem complexity level for plotting. \n",
    "At the start, we must do some bookkeeping to divide the decision set into each sub-problem of default, lhs, config, and lhs_config (if you ran a bigger problem containing more than one of these). "
   ]
  },
  {
   "cell_type": "markdown",
   "metadata": {},
   "source": [
    "### 3_4_1 Divide the decision set "
   ]
  },
  {
   "cell_type": "code",
   "execution_count": null,
   "metadata": {},
   "outputs": [],
   "source": [
    "# Get names for each set of problem complexities.\n",
    "if lhs_config_prob==1: \n",
    "    suffix = '_configs_latin.nc'\n",
    "    default_name = default_con_name+'0'\n",
    "    lat_name = [default_name[:-1]+str(i) for i in range(0,numl+1)]\n",
    "elif lhs_prob==1:\n",
    "    suffix = '_latin.nc'\n",
    "    default_name = '0'  \n",
    "    lat_name = [str(i) for i in range(0,numl+1)]\n",
    "elif config_prob==1:\n",
    "    suffix = '_configs.nc'\n",
    "    default_name = default_con_name\n",
    "    lat_name = default_name\n",
    "elif default_prob==1:\n",
    "    suffix = '_hru.nc'\n",
    "    default_name = 'default'\n",
    "    lat_name = default_name\n",
    "\n",
    "error_data = xr.open_dataset(regress_folder+'/error_data'+suffix)"
   ]
  },
  {
   "cell_type": "code",
   "execution_count": null,
   "metadata": {},
   "outputs": [],
   "source": [
    "# Get decision names off the files\n",
    "decision_set = np.array(error_data['decision']) "
   ]
  },
  {
   "cell_type": "code",
   "execution_count": null,
   "metadata": {},
   "outputs": [],
   "source": [
    "# Get only configuration and default param decision names, and only latin params and default configuration decision names\n",
    "ndec = len(decision_set)\n",
    "if config_prob==0: cfg_name = decision_set[range(0,ndec,numl+1)]\n",
    "else: cfg_name = decision_set\n",
    "ncfg = len(cfg_name)\n",
    "if lhs_config_prob==1: cfglat_name = [c[:-1]+str(i) for i in range(0,numl+1) for c in cfg_name]\n",
    "elif lhs_prob==1: cfglat_name = lat_name+[default_name]\n",
    "elif config_prob==1: cfglat_name = cfg_name\n",
    "elif default_prob==1: cfglat_name = default_name"
   ]
  },
  {
   "cell_type": "markdown",
   "metadata": {},
   "source": [
    "<br>\n",
    "\n",
    "### 3_4_2 Get the forcing and output names, and find the HRUs and their locations\n",
    "Next, we get the forcing and output names, and find the HRUs and their locations. "
   ]
  },
  {
   "cell_type": "code",
   "execution_count": null,
   "metadata": {},
   "outputs": [],
   "source": [
    "# Set forcings and create dictionaries, ordered forcings and output variables to match paper\n",
    "constant_vars= ['pptrate','airtemp','spechum','SWRadAtm','LWRadAtm','windspd','airpres'] \n",
    "allforcings = constant_vars+['truth']\n",
    "comp_sim=['scalarInfiltration','scalarTotalRunoff','scalarAquiferBaseflow','scalarSoilDrainage',\n",
    "          'scalarTotalSoilWat','scalarCanopyWat','scalarLatHeatTotal','scalarTotalET','scalarSurfaceRunoff',\n",
    "          'scalarSWE','scalarRainPlusMelt','scalarSnowSublimation','scalarSenHeatTotal','scalarNetRadiation']\n",
    "var_sim = np.concatenate([constant_vars, comp_sim])"
   ]
  },
  {
   "cell_type": "code",
   "execution_count": null,
   "metadata": {},
   "outputs": [],
   "source": [
    "# Get number of HRUs\n",
    "attrib = xr.open_dataset(top_folder+'/settings/attributes.nc')\n",
    "the_hru = np.array(attrib['hruId'])\n",
    "the_hru = np.array(the_hru)"
   ]
  },
  {
   "cell_type": "code",
   "execution_count": null,
   "metadata": {},
   "outputs": [],
   "source": [
    "#get lat long for plotting purposes later on\n",
    "df =  pd.read_csv(regress_folder+'/camels_topo.txt',delimiter=';')\n",
    "df['hru'] = range(0,671)\n",
    "xr_tmp = df.set_index(['hru']).to_xarray()\n",
    "xr_tmp = xr_tmp.assign_coords(hru=xr_tmp['gauge_id'])\n",
    "xr_tmp = xr_tmp.sel(hru=the_hru)\n",
    "lr_attrib = xr_tmp"
   ]
  },
  {
   "cell_type": "markdown",
   "metadata": {},
   "source": [
    "<br>\n",
    "\n",
    "### 3_4_3 Summarize KGE error"
   ]
  },
  {
   "cell_type": "markdown",
   "metadata": {},
   "source": [
    "Now, we summarize KGE error by totals over all output variables and each output variable, and rank each constant forcing from most error to least error. Also, we summarize the raw data output by forcing and by truth data (here the hourly NLDAS data)."
   ]
  },
  {
   "cell_type": "code",
   "execution_count": null,
   "metadata": {},
   "outputs": [],
   "source": [
    "# setup summaries by simulated output variable\n",
    "summ_kind = ['total','rank','raw']\n",
    "shape = (len(decision_set),len(the_hru),len(allforcings),len(summ_kind))\n",
    "dims = ('decision','hru','var','summary')\n",
    "coords = {'decision':decision_set,'hru': the_hru, 'var': allforcings,'summary':summ_kind}\n",
    "summary_data = xr.Dataset(coords=coords)\n",
    "summary_data['all'] = xr.DataArray(data=np.full(shape, np.nan),\n",
    "                                 coords=coords, dims=dims,\n",
    "                                 name='all')\n",
    "for s in comp_sim:\n",
    "    summary_data[s] = xr.DataArray(data=np.full(shape, np.nan),\n",
    "                                 coords=coords, dims=dims,\n",
    "                                 name=s)"
   ]
  },
  {
   "cell_type": "code",
   "execution_count": null,
   "metadata": {},
   "outputs": [],
   "source": [
    "# calculate sums of KGE and ranks of worst to best forcing for error over all variables\n",
    "ds = error_data.sel(summary='KGE')\n",
    "ds =ds.fillna(0) # So don't add to total KGE    \n",
    "ds1 = ds.loc[dict(var = constant_vars)]\n",
    "ds2 = sum(d for d in ds1.data_vars.values())\n",
    "summary_data['all'].loc[:,:,constant_vars,'total'] = ds2.values\n",
    "summary_data['all'].loc[:,:,constant_vars,'rank'] = ds2.rank(dim='var').values\n",
    "for s in comp_sim:\n",
    "    summary_data[s].loc[:,:,constant_vars,'total'] = ds1[s].values\n",
    "    summary_data[s].loc[:,:,constant_vars,'rank'] = ds1[s].rank(dim='var').values"
   ]
  },
  {
   "cell_type": "code",
   "execution_count": null,
   "metadata": {},
   "outputs": [],
   "source": [
    "# calculate sums of raw values over all variables for constant forcings and truth\n",
    "ds = error_data.sel(summary='raw')\n",
    "ds =ds.fillna(0) # So don't add to total KGE    \n",
    "ds1 = ds.loc[dict(var = constant_vars)]\n",
    "ds2 = sum(d for d in ds1.data_vars.values())\n",
    "summary_data['all'].loc[:,:,constant_vars,'raw'] = ds2.values\n",
    "ds1 = ds.loc[dict(var = allforcings)]\n",
    "for s in comp_sim:\n",
    "    summary_data[s].loc[:,:,allforcings,'raw'] = ds1[s].values"
   ]
  },
  {
   "cell_type": "markdown",
   "metadata": {},
   "source": [
    "<br>\n",
    "\n",
    "## 3_5 Make the results plots\n",
    "\n",
    "This step will make first a summary plot for each basin you ran. Then, it will make a second set of plots that show the output variable values over the parameter space, by model configuration. Note, if you did not run the previous notebook (the pysumma runs) with `lhs_config_prob = 1`, you will not be able to make the full plots from the paper.\n",
    "\n",
    "**The first set of plots are:**\n",
    "- A) Location map\n",
    "- B) Output variable KGE values with default problem per constant forcing dataset\n",
    "     - with default parameters **par 0** and default configuration **con default_con_name**\n",
    "- C) Output variable KGE range with different problem decisions \n",
    "     - with default parameters **par 0** and default configuration **con default_con_name** and all constant forcings\n",
    "     - with default parameters **par 0**, LHS parameters **par 1-numl** and default configuration **con default_con_name** and all constant forcings\n",
    "     - with default parameters **par 0** and all configurations **con 1-ncfg** and all constant forcings\n",
    "     - with LHS parameters **par 1-numl** and all configurations **con 1-ncfg** and all constant forcings\n",
    "- D) Forcing dataset KGE range with different problem decisions\n",
    "     - with default parameters **par 0** and default configuration **con default_con_name** and all constant forcings\n",
    "     - with LHS parameters **par 1-numl** and default configuration **con default_con_name** and all constant forcings\n",
    "     - with default parameters **par 0** and all configurations **con 1-ncfg** and all constant forcings\n",
    "     - with default parameters **par 0**, LHS parameters **par 1-numl** and all configurations **con 1-ncfg** and all constant forcings\n",
    "- E) Forcing dataset KGE rank counts by output variable \n",
    "    - with default parameters **par 0**, LHS parameters **par 1-numl**, and all configurations **con 1-ncfg** and all constant forcings\n",
    "    - for each output variable there are **(numl+1)*ncfg rankings**\n",
    "- F) Forcing dataset KGE rank counts by model configuration \n",
    "     - with default parameters **par 0**, LHS parameters **par 1-numl** and all output variables and all constant forcings\n",
    "     - for each model configuration there are **(numl+1)*14 rankings** \n",
    "         - the 14 is from the number of output variables\n",
    "\n",
    "**The second set of plots are**:\n",
    "- A) Summed KGE for all forcings versus truth for each output variable by model configuration\n",
    "     - with any parameter set used (default parameters **par 0** and LHS parameters **par 1-numl** if run)\n",
    "- B) Summed raw hourly value over the time period (excluding model initialization period that KGE was not computed over) for truth forcing for each output variable by model configuration\n",
    "     - with any parameter set used (default parameters **par 0** and LHS parameters **par 1-numl** if run)\n"
   ]
  },
  {
   "cell_type": "markdown",
   "metadata": {},
   "source": [
    "## 3_5_1 Setup plots"
   ]
  },
  {
   "cell_type": "code",
   "execution_count": null,
   "metadata": {},
   "outputs": [],
   "source": [
    "col1=['blue','red','brown','pink','green','cyan','gray'] \n",
    "col2=['burlywood','purple','aquamarine','magenta']\n",
    "col3 = sns.color_palette(None, ncfg)"
   ]
  },
  {
   "cell_type": "code",
   "execution_count": null,
   "metadata": {},
   "outputs": [],
   "source": [
    "# Setup plots by output variable\n",
    "x = np.arange(len(comp_sim))\n",
    "xtic = np.arange(0, len(comp_sim)).tolist()\n",
    "xtic =[i+0.5 for i in xtic]\n",
    "xtics =[str(i+1) for i in xtic]\n",
    "labels = list('ABCDEFGHIJKLMN')\n",
    "compsim_lab = [c[6:] for c in comp_sim]"
   ]
  },
  {
   "cell_type": "code",
   "execution_count": null,
   "metadata": {},
   "outputs": [],
   "source": [
    "# Setup plots by decision\n",
    "decision_lab = ['DEFAULT','LHS','CONFIG', 'COMPREHENSIVE']\n",
    "decision_used = np.array([0,1,2,3])\n",
    "if lhs_prob==1: decision_used = np.array([0,1])\n",
    "elif config_prob==1: decision_used = np.array([0,2])\n",
    "elif default_prob==1: decision_used = np.array([0])"
   ]
  },
  {
   "cell_type": "code",
   "execution_count": null,
   "metadata": {},
   "outputs": [],
   "source": [
    "# Setup plots by forcing\n",
    "z = np.arange(len(constant_vars))\n",
    "ztic = np.arange(0, len(constant_vars)).tolist()\n",
    "ztic =[i+0.5 for i in ztic]\n",
    "ztics =[str(i+1) for i in ztic]\n",
    "constvar_lab = ['ppt','tmp','hum','swr','lwr','wnd','prs']"
   ]
  },
  {
   "cell_type": "code",
   "execution_count": null,
   "metadata": {},
   "outputs": [],
   "source": [
    "# Setup plots by config, allow for a varying number of configurations\n",
    "c = np.arange(len(constant_vars))\n",
    "ctic = np.arange(0, ncfg)\n",
    "ctic =[i+0.5 for i in ctic]\n",
    "ctics =[str(i+1) for i in ctic]\n",
    "labelc = [str(i) for i in range(1,ncfg+1)]\n",
    "if default_prob==1 or lhs_prob==1: cfg_lab = ['default']\n",
    "if config_prob==1: cfg_lab = [i[2:-2] for i in cfg_name]\n",
    "if lhs_config_prob==1: cfg_lab = [i[2:-3] for i in cfg_name]"
   ]
  },
  {
   "cell_type": "markdown",
   "metadata": {},
   "source": [
    "## 3_5_2 The first set of plots"
   ]
  },
  {
   "cell_type": "code",
   "execution_count": null,
   "metadata": {},
   "outputs": [],
   "source": [
    "for h in the_hru:\n",
    "    \n",
    "    print (\"\\nFigures A-F for CAMELS Basin:\",h, \"\\n\")\n",
    "\n",
    "    fig = plt.figure(figsize=(25, 30))\n",
    "\n",
    "    # ------- Draw map (Plot A) ------- #\n",
    "    sub1 = plt.subplot2grid((19,7), (0,0), colspan = 2, rowspan = 4)    # placing on grid\n",
    "\n",
    "    lat=lr_attrib['gauge_lat'].sel(hru=h)\n",
    "    lon=lr_attrib['gauge_lon'].sel(hru=h)\n",
    "    m = Basemap(llcrnrlon=-119,llcrnrlat=22,urcrnrlon=-64,urcrnrlat=49,\n",
    "        projection='lcc',resolution='l',lat_1=33,lat_2=45,lon_0=-95)\n",
    "    m.drawcoastlines(linewidth=0.5)\n",
    "    m.drawstates(linewidth=0.5, linestyle='solid', color='k')\n",
    "    m.drawcountries(linewidth=2, linestyle='solid', color='k' ) \n",
    "    x, y = m(lon, lat) \n",
    "    sub1.scatter(x,y,s=100, marker = '^', color='red') \n",
    "    plt.title('(A) Location of CAMELS Basin ' +str(h),fontsize = 15)\n",
    "    sub1.axis(\"off\")\n",
    "\n",
    "\n",
    "    # ------- KGE values for each output variable (Plot B) ------- #\n",
    "    sub2 = plt.subplot2grid((19,7), (4,0), colspan = 7, rowspan = 2)    # placing on grid\n",
    "\n",
    "    for i, s in enumerate(comp_sim):\n",
    "        data = summary_data[s].sel(hru = h,summary = 'total', decision = default_name)\n",
    "        for j,v in enumerate(constant_vars):\n",
    "            sub2.scatter(i+.1*j,data.sel(var = v),s=100, marker = 's', color=col1[j])\n",
    "\n",
    "    plt.xlim(-0.5,len(comp_sim))\n",
    "    plt.ylim(-1.05,1.05)\n",
    "    plt.xticks(xtic, labels, fontsize = 12)\n",
    "    plt.xlabel('Output Variables', fontsize = 15)\n",
    "    plt.yticks(np.arange(-1.0, 1.01,0.5).tolist())\n",
    "    plt.ylabel('KGE', fontsize = 12)\n",
    "    plt.title('(B) KGE values for each output variable',fontsize = 15)\n",
    "\n",
    "\n",
    "    # ------- KGE range over forcing datasets (Plot C) ------- #\n",
    "    sub3 = plt.subplot2grid((19,7), (7,0), colspan = 7, rowspan = 2)   # placing on grid\n",
    "\n",
    "    for i, s in enumerate(comp_sim):\n",
    "        data = summary_data[s].sel(hru = h,var = constant_vars, summary = 'total')\n",
    "        for j in decision_used:\n",
    "            v = decision_lab[j]\n",
    "            if v=='DEFAULT': data2 = data.sel(decision = default_name)\n",
    "            if v=='LHS': data2 = data.sel(decision = lat_name)\n",
    "            if v=='CONFIG': data2 = data.sel(decision = cfg_name)\n",
    "            if v=='COMPREHENSIVE': data2 = data.sel(decision = cfglat_name)\n",
    "            bp = sub3.boxplot(xr.concat(data2, dim='var'),positions = [i+.2*j],widths=0.2,patch_artist=True)\n",
    "            for patch in bp['boxes']:\n",
    "                patch.set(facecolor=col2[j])  \n",
    "\n",
    "    plt.xlim(-0.5,len(comp_sim))\n",
    "    plt.ylim(-1.05,1.05)\n",
    "    plt.xticks(xtic, labels, fontsize = 12)\n",
    "    plt.xlabel('Output Variables', fontsize = 15)\n",
    "    plt.yticks(np.arange(-1.0, 1.01,0.5).tolist())\n",
    "    plt.ylabel('KGE', fontsize = 12)\n",
    "    plt.title('(C) KGE range over forcing datasets for each output variable',fontsize = 15)\n",
    "\n",
    "\n",
    "    # ------- KGE  range over output variables  (Plot D) ------- #\n",
    "    sub4 = plt.subplot2grid((19,7), (10,0), colspan = 7, rowspan = 2)  # placing on grid\n",
    "\n",
    "    for i, s in enumerate(constant_vars):\n",
    "        data = summary_data[comp_sim].sel(hru = h,var = s,summary = 'total')\n",
    "        for j in decision_used:\n",
    "            v = decision_lab[j]\n",
    "            if v=='DEFAULT': data2 = data.sel(decision = default_name)\n",
    "            if v=='LHS': data2 = data.sel(decision = lat_name)\n",
    "            if v=='CONFIG': data2 = data.sel(decision = cfg_name)\n",
    "            if v=='COMPREHENSIVE': data2 = data.sel(decision = cfglat_name)\n",
    "            bp = sub4.boxplot(xr.concat(data2.to_array(), dim='decision'),positions = [i+.2*j],widths=0.2,patch_artist=True)\n",
    "            for patch in bp['boxes']:\n",
    "                patch.set(facecolor=col2[j])  \n",
    "\n",
    "    plt.xlim(-0.5,len(constant_vars))\n",
    "    plt.ylim(-1.05,1.05)\n",
    "    plt.xticks(ztic, constvar_lab, fontsize = 12)\n",
    "    plt.xlabel('CNST forcing dataset', fontsize = 15)\n",
    "    plt.yticks(np.arange(-1.0, 1.01,0.5).tolist())\n",
    "    plt.ylabel('KGE', fontsize = 12)\n",
    "    plt.title('(D) KGE range over ouput variables for each CNST forcing dataset',fontsize = 15)\n",
    "\n",
    "\n",
    "    # ------- Relative KGE rank counts for each output variable (Plot E) ------- # \n",
    "\n",
    "    for j in np.arange(len(constant_vars)):\n",
    "        plot2 = plt.subplot2grid((19,7), (13,0+j), colspan = 1, rowspan = 2)  # placing on grid\n",
    "        data = summary_data.sel(hru = h,summary='rank',decision = cfglat_name)\n",
    "        data = data.where(data==j+1)/(j+1)\n",
    "        if default_prob==0: data = data.sum(dim='decision')\n",
    "        else: data = data.fillna(0)\n",
    "        data = data/data.sum(dim='var')\n",
    "        for i, s in enumerate(comp_sim):\n",
    "            data0 = data[s]\n",
    "            data_Master = 0\n",
    "            for jj, v in enumerate(constant_vars):\n",
    "                if lhs_config_prob==1: #only plot if ran everything\n",
    "                    plt.bar(height = data0.sel(var = v), x = i+0.5, width = 0.9, color =col1[jj], bottom = data_Master)\n",
    "                data_Master = data_Master+data0.sel(var = v)\n",
    "\n",
    "        plt.xlim(-0.05,len(comp_sim)-0.05)\n",
    "        plt.ylim(0,1)\n",
    "        plt.xticks(xtic, labels, fontsize = 12)\n",
    "        plt.yticks([], [])\n",
    "        plt.box(False)\n",
    "        plt.ylabel('Counts Rank '+str(j+1), fontsize = 12)\n",
    "\n",
    "        if j==3: plt.title('(E) Relative KGE rank counts by CNST forcing dataset for each output variable',fontsize = 15)\n",
    "        if j==3: plt.xlabel('Output Variables', fontsize = 15)\n",
    "\n",
    "\n",
    "    # ------- Relative KGE rank counts for each configuration (Plot F) ------- # \n",
    "\n",
    "    for j in np.arange(len(constant_vars)):\n",
    "        plot2 = plt.subplot2grid((19,7), (16,0+j), colspan = 1, rowspan = 2)  # placing on grid\n",
    "        data = summary_data[comp_sim].sel(hru = h,summary='rank',decision = cfglat_name)\n",
    "        data = data.where(data==j+1)/(j+1)\n",
    "        for i, s in enumerate(cfg_name):\n",
    "            if lhs_config_prob==1: data0 = data.sel(decision = [s[:-1]+str(k) for k in range(0,numl+1)])\n",
    "            elif config_prob==1: data0 = data.sel(decision = s)\n",
    "            else: data0 = data\n",
    "            if lhs_prob==1 or lhs_config_prob==1: data0 = data0.sum(dim='decision')\n",
    "            data0 = sum(d.fillna(0) for d in data0.data_vars.values())        \n",
    "            data0 = data0/data0.sum(dim='var')    \n",
    "            data_Master = 0\n",
    "            #if config_prob or lhs_config_prob ==1: ii = i\n",
    "            #else: ii = 3 #default configuration only\n",
    "            for jj, v in enumerate(constant_vars):\n",
    "                if lhs_config_prob==1 or lhs_prob==1: #only plot if ran everything for a configuration\n",
    "                    plt.bar(height = data0.sel(var = v), x = i+0.5, width = 0.9, color =col1[jj], bottom = data_Master)\n",
    "                data_Master = data_Master+data0.sel(var = v)\n",
    "\n",
    "        plt.xlim(-0.05,len(cfg_name)-0.05)\n",
    "        plt.ylim(0,1)\n",
    "        plt.xticks(ctic, labelc, fontsize = 12)\n",
    "        plt.yticks([], [])\n",
    "        plt.box(False)\n",
    "        plt.ylabel('Counts Rank '+str(j+1), fontsize = 12)\n",
    "\n",
    "        if j==3: plt.title('(F) Relative KGE rank counts by CNST forcing dataset for each SUMMA Configuration',fontsize = 15)\n",
    "        if j==3: plt.xlabel('SUMMA Configuration', fontsize = 15)\n",
    "\n",
    "            \n",
    "    # ------- Places the Legends ------- # \n",
    "    leg1 = plt.subplot2grid((19,7), (0,2))     # Plot B legend\n",
    "    for i,s in enumerate(constvar_lab): plt.scatter([],[], color = col1[i], marker = 's', label = s)\n",
    "    plt.axis('off')\n",
    "    plt.title('Forcings',fontsize = 15)\n",
    "    plt.legend(loc = 'upper center', prop = {'size':12}, frameon = False, labelspacing = .1)\n",
    "\n",
    "    leg2 = plt.subplot2grid((19,7), (0,3))     # Plot C and D legend\n",
    "    for i,s in enumerate(decision_lab): plt.scatter([],[], color = col2[i], marker = 's', label = s)\n",
    "    plt.axis('off')\n",
    "    plt.title('SUMMA Runs',fontsize = 15)\n",
    "    plt.legend(loc = ('upper center'), prop = {'size':12}, frameon = False)\n",
    "\n",
    "    leg3 = plt.subplot2grid((19,7), (0,4))     # Plot B, C, and E legend\n",
    "    for i,s in enumerate(compsim_lab): plt.scatter([],[], color = 'black', marker ='', label = labels[i]+' '+s)\n",
    "    plt.axis('off')\n",
    "    plt.title('Output Variables',fontsize = 15)\n",
    "    plt.legend(loc = ('upper center'), prop = {'size':12}, frameon = False)\n",
    "\n",
    "    leg4 = plt.subplot2grid((19,7), (0,5))     # Plot F legend\n",
    "    for i,s in enumerate(cfg_lab): plt.scatter([],[], color = 'black', marker = '', label = labelc[i]+' '+s)\n",
    "    plt.axis('off')\n",
    "    plt.title('Configurations',fontsize = 15)\n",
    "    plt.legend(loc = ('upper center'), prop = {'size':12}, frameon = False)\n",
    "\n",
    "    \n",
    "    # ------- Prints the plot ------- #\n",
    "    # if you want to save as a png\n",
    "    plt.savefig('KGE_summaryBasin_'+str(h)+'.png', bbox_inches = 'tight')\n",
    "    plt.show()"
   ]
  },
  {
   "cell_type": "markdown",
   "metadata": {},
   "source": [
    "## 3_5_3 The second set of plots"
   ]
  },
  {
   "cell_type": "code",
   "execution_count": null,
   "metadata": {},
   "outputs": [],
   "source": [
    "plot_raw_or_total = ['total','raw']\n",
    "for h in the_hru:\n",
    "\n",
    "    fig = plt.figure(figsize=(25, 25))\n",
    "\n",
    "    for j, n in enumerate(comp_sim):\n",
    "        for p, plot_type in enumerate(plot_raw_or_total):\n",
    "        # ------- Value range over ouput variables by configuration ------- #\n",
    "            if (j<7): plot1 = plt.subplot2grid((17,7), (4+p*7,0+j), colspan = 1, rowspan = 2)  # placing on grid\n",
    "            if (j>6): plot1 = plt.subplot2grid((17,7), (7+p*7,j-7), colspan = 1, rowspan = 2)  # placing on grid\n",
    "              \n",
    "            if plot_type=='total': \n",
    "                data = summary_data[n].sel(hru = h,decision = cfglat_name,var = constant_vars, summary = plot_type)\n",
    "                data = data.sum(dim='var')\n",
    "            if plot_type=='raw': data = summary_data[n].sel(hru = h,decision = cfglat_name,var = 'truth',summary = plot_type)\n",
    "\n",
    "            \n",
    "            for i, s in enumerate(cfg_name):\n",
    "                if lhs_config_prob==1: data0 = data.sel(decision = [s[:-1]+str(k) for k in range(0,numl+1)])\n",
    "                elif config_prob==1: data0 = data.sel(decision = s)\n",
    "                else: data0 = data\n",
    "\n",
    "                if plot_type=='raw' and (config_prob==1 or default_prob==1): #only points no box\n",
    "                    bp = plot1.scatter(data0.values,i+0.45,s=100, marker = 'o',color = col3[i])     \n",
    "                else: \n",
    "                    bp = plot1.boxplot(xr.concat(data0, dim='var'),widths=1,positions = [i+0.45],patch_artist=True,vert=False)\n",
    "                    for patch in bp['boxes']:\n",
    "                        patch.set(facecolor=col3[i])  \n",
    "\n",
    "            plt.ylim(len(cfg_name)-0.05,-0.05)\n",
    "            plt.yticks(ctic, labelc, fontsize = 12)\n",
    "            if plot_type=='total': \n",
    "                plt.xlabel(labels[j]+' KGE', fontsize = 15) \n",
    "            if plot_type=='raw': plt.xlabel(labels[j]+' Values', fontsize = 15) #units are sums over time period\n",
    "\n",
    "            if j==3 and plot_type=='total': plt.title('(A) CAMELS Basin ' +str(h) +' Range in summed KGE values (over Constant Forcings) for each SUMMA Configuration',fontsize = 15)\n",
    "            if j==3 and plot_type=='raw': plt.title('(B) CAMELS Basin ' +str(h) +' Range in summed Truth forcing values (over period of record) for each SUMMA Configuration',fontsize = 15)\n",
    "            if j==0 or j==7: plt.ylabel('SUMMA Configuration', fontsize = 15)\n",
    "            if plot_type=='raw': plt.xlabel(labels[j]+' Values', fontsize = 15)\n",
    "        \n",
    "    # ------- Places the Legends ------- # \n",
    "\n",
    "    leg3 = plt.subplot2grid((17,7), (0,4))     # Output variable legend\n",
    "    for i,s in enumerate(compsim_lab): plt.scatter([],[], color = 'black', marker ='', label = labels[i]+' '+s)\n",
    "    plt.axis('off')\n",
    "    plt.title('Output Variables',fontsize = 15)\n",
    "    plt.legend(loc = ('upper center'), prop = {'size':12}, frameon = False)\n",
    "\n",
    "    leg4 = plt.subplot2grid((17,7), (0,5))     # Configuration legend\n",
    "    for i,s in enumerate(cfg_lab): plt.scatter([],[], color = 'black', marker = '', label = labelc[i]+' '+s)\n",
    "    plt.axis('off')\n",
    "    plt.title('Configurations',fontsize = 15)\n",
    "    plt.legend(loc = ('upper center'), prop = {'size':12}, frameon = False)\n",
    "\n",
    "    \n",
    "    # ------- Prints the plot ------- #\n",
    "    # if you want to save as a png\n",
    "    plt.savefig('Config_summaryBasin_'+str(h)+'.png', bbox_inches = 'tight')\n",
    "    plt.show()"
   ]
  },
  {
   "cell_type": "code",
   "execution_count": null,
   "metadata": {},
   "outputs": [],
   "source": [
    "# Print the time spent running the entire notebook.\n",
    "# records the time at this instant \n",
    "# of the program\n",
    "runtime_end = timeit.default_timer()\n",
    "\n",
    "# printing the execution time by subtracting\n",
    "# the time before the function from\n",
    "# the time after the function\n",
    "print(int(runtime_end-runtime_start), ' seconds')"
   ]
  }
 ],
 "metadata": {
  "kernelspec": {
   "display_name": "SUMMA-2021-09",
   "language": "python",
   "name": "pysumma-2021-09"
  },
  "language_info": {
   "codemirror_mode": {
    "name": "ipython",
    "version": 3
   },
   "file_extension": ".py",
   "mimetype": "text/x-python",
   "name": "python",
   "nbconvert_exporter": "python",
   "pygments_lexer": "ipython3",
   "version": "3.7.9"
  },
  "latex_envs": {
   "LaTeX_envs_menu_present": true,
   "autocomplete": true,
   "bibliofile": "biblio.bib",
   "cite_by": "apalike",
   "current_citInitial": 1,
   "eqLabelWithNumbers": true,
   "eqNumInitial": 1,
   "hotkeys": {
    "equation": "Ctrl-E",
    "itemize": "Ctrl-I"
   },
   "labels_anchors": false,
   "latex_user_defs": false,
   "report_style_numbering": false,
   "user_envs_cfg": false
  },
  "toc": {
   "nav_menu": {},
   "number_sections": true,
   "sideBar": true,
   "skip_h1_title": false,
   "title_cell": "Table of Contents",
   "title_sidebar": "Contents",
   "toc_cell": false,
   "toc_position": {},
   "toc_section_display": true,
   "toc_window_display": false
  },
  "varInspector": {
   "cols": {
    "lenName": 16,
    "lenType": 16,
    "lenVar": 40
   },
   "kernels_config": {
    "python": {
     "delete_cmd_postfix": "",
     "delete_cmd_prefix": "del ",
     "library": "var_list.py",
     "varRefreshCmd": "print(var_dic_list())"
    },
    "r": {
     "delete_cmd_postfix": ") ",
     "delete_cmd_prefix": "rm(",
     "library": "var_list.r",
     "varRefreshCmd": "cat(var_dic_list()) "
    }
   },
   "types_to_exclude": [
    "module",
    "function",
    "builtin_function_or_method",
    "instance",
    "_Feature"
   ],
   "window_display": false
  }
 },
 "nbformat": 4,
 "nbformat_minor": 4
}
